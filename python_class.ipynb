{
  "nbformat": 4,
  "nbformat_minor": 0,
  "metadata": {
    "colab": {
      "provenance": [],
      "collapsed_sections": [],
      "authorship_tag": "ABX9TyNyQXQQfzXScG9vgC7lfoTX",
      "include_colab_link": true
    },
    "kernelspec": {
      "name": "python3",
      "display_name": "Python 3"
    },
    "language_info": {
      "name": "python"
    }
  },
  "cells": [
    {
      "cell_type": "markdown",
      "metadata": {
        "id": "view-in-github",
        "colab_type": "text"
      },
      "source": [
        "<a href=\"https://colab.research.google.com/github/anand1994sp/My-first-repository/blob/main/python_class.ipynb\" target=\"_parent\"><img src=\"https://colab.research.google.com/assets/colab-badge.svg\" alt=\"Open In Colab\"/></a>"
      ]
    },
    {
      "cell_type": "code",
      "execution_count": null,
      "metadata": {
        "colab": {
          "base_uri": "https://localhost:8080/"
        },
        "id": "jKsYHKz1gfD9",
        "outputId": "e57bc799-f9ec-408a-8562-888b5349e8d7"
      },
      "outputs": [
        {
          "output_type": "stream",
          "name": "stdout",
          "text": [
            "Hello Good Afternoon\n"
          ]
        }
      ],
      "source": [
        "print(\"Hello Good Afternoon\")"
      ]
    },
    {
      "cell_type": "code",
      "source": [
        "#WAP to find the sum of two numbers\n",
        "a=int(input(\"Enter a number \"))\n",
        "b=int(input(\"Enter a number \"))\n",
        "s=a+b\n",
        "print(\"sum=\",s)"
      ],
      "metadata": {
        "id": "PKS694klo5Cy"
      },
      "execution_count": null,
      "outputs": []
    },
    {
      "cell_type": "code",
      "source": [
        "#Write a program to multiply 2 numbers\n",
        "a=int(input(\"Enter a number \"))\n",
        "b=int(input(\"Enter a number \"))\n",
        "p=a*b\n",
        "print(\"product=\",p)"
      ],
      "metadata": {
        "colab": {
          "base_uri": "https://localhost:8080/"
        },
        "id": "UyutHuN8pTS-",
        "outputId": "f6560b4e-9ef3-4f2d-8c52-8cc9eb108778"
      },
      "execution_count": null,
      "outputs": [
        {
          "output_type": "stream",
          "name": "stdout",
          "text": [
            "Enter a number 2\n",
            "Enter a number 8\n",
            "product= 16\n"
          ]
        }
      ]
    },
    {
      "cell_type": "code",
      "source": [
        "#Write a Program to sum of 5 numbers?\n",
        "a=int(input(\"Enter a number \"))\n",
        "b=int(input(\"Enter a number \"))\n",
        "c=int(input(\"Enter a number \"))\n",
        "d=int(input(\"Enter a number \"))\n",
        "e=int(input(\"Enter a number \"))\n",
        "sum=a+b+c+d+e\n",
        "print(\"Sum=\",sum)"
      ],
      "metadata": {
        "colab": {
          "base_uri": "https://localhost:8080/"
        },
        "id": "Sq5B6pX6qSdD",
        "outputId": "2c57486f-909e-469a-ce4e-7c3426aa3c08"
      },
      "execution_count": null,
      "outputs": [
        {
          "output_type": "stream",
          "name": "stdout",
          "text": [
            "Enter a number 1\n",
            "Enter a number 2\n",
            "Enter a number 3\n",
            "Enter a number 4\n",
            "Enter a number 5\n",
            "Sum= 15\n"
          ]
        }
      ]
    },
    {
      "cell_type": "code",
      "source": [
        "#Write a program to find area and perimeter of a rectangle\n",
        "l=int(input(\"Enter length \"))\n",
        "b=int(input(\"Enter breadth \"))\n",
        "a=l*b\n",
        "p=2*(l+b)\n",
        "print(\"Area a Rectangle is\",a)\n",
        "print(\"Perimeter of the rectangle is\",p)"
      ],
      "metadata": {
        "id": "waLrJcw8s2HB",
        "outputId": "c3201a10-d00b-4eb5-ed14-f5715dbc32ab",
        "colab": {
          "base_uri": "https://localhost:8080/"
        }
      },
      "execution_count": null,
      "outputs": [
        {
          "output_type": "stream",
          "name": "stdout",
          "text": [
            "Enter length 5\n",
            "Enter breadth 6\n",
            "Area a Rectangle is 30\n",
            "Perimeter of the rectangle is 22\n"
          ]
        }
      ]
    },
    {
      "cell_type": "code",
      "source": [
        "#To find the area and circumference of a circle\n",
        "pi=3.14\n",
        "r=int(input(\"Enter the radius of the circle \"))\n",
        "a=pi*r*r\n",
        "c=2*pi*r\n",
        "print(\"Area of the circle is\",a)\n",
        "print(\"Circumference of the circle\",c)"
      ],
      "metadata": {
        "id": "yy1zf0VQuGGr",
        "outputId": "2d3ac6d4-96f3-49b8-b2ed-1a290f25876e",
        "colab": {
          "base_uri": "https://localhost:8080/"
        }
      },
      "execution_count": null,
      "outputs": [
        {
          "output_type": "stream",
          "name": "stdout",
          "text": [
            "Enter the radius of the circle 4\n",
            "Area of the circle is 50.24\n",
            "Circumference of the circle 25.12\n"
          ]
        }
      ]
    },
    {
      "cell_type": "code",
      "source": [
        "#Volume a spher\n",
        "pi=3.14\n",
        "r=int(input(\"Enter the radius of the sphere \"))\n",
        "v=(4/3)*pi*r*r*r\n",
        "print(\"Volume of the sphere is\",v)"
      ],
      "metadata": {
        "id": "f4tJzdYOwgoU",
        "outputId": "fcc7a811-cadb-4344-d5fd-5e31e22e5c51",
        "colab": {
          "base_uri": "https://localhost:8080/"
        }
      },
      "execution_count": null,
      "outputs": [
        {
          "output_type": "stream",
          "name": "stdout",
          "text": [
            "Enter the radius of the sphere 5\n",
            "Volume of the sphere is 523.3333333333334\n"
          ]
        }
      ]
    },
    {
      "cell_type": "code",
      "source": [
        "#Find a program to input 3 numbers and find second greatest number\n",
        "a=int(input('enter the first num'))\n",
        "b=int(input('enter the second num'))\n",
        "c=int(input('enter the third num'))\n",
        "if a>b and a<c:\n",
        "  print('second greatest',a)\n",
        "elif b>a and b<c:\n",
        "  print('second greatest',b)\n",
        "else:\n",
        "  print('second greatest',c)\n"
      ],
      "metadata": {
        "id": "YhB1mxZ-3qVt",
        "colab": {
          "base_uri": "https://localhost:8080/"
        },
        "outputId": "58239fbf-bd02-465f-d9f5-b7c0cb4761d6"
      },
      "execution_count": null,
      "outputs": [
        {
          "output_type": "stream",
          "name": "stdout",
          "text": [
            "enter the first num3\n",
            "enter the second num1\n",
            "enter the third num2\n",
            "second greatest 2\n"
          ]
        }
      ]
    },
    {
      "cell_type": "code",
      "source": [
        "# WAP to input a number check whether it is even or odd\n",
        "a=int(input(\"Enter a number \"))\n",
        "if a%2 == 0:\n",
        "  print(\"Even numb\")\n",
        "else:\n",
        "  print(\"Odd numb\")\n",
        "    "
      ],
      "metadata": {
        "colab": {
          "base_uri": "https://localhost:8080/"
        },
        "id": "6b2G7l9PBiBT",
        "outputId": "6014d620-e49a-4c29-83b6-e560c6208d16"
      },
      "execution_count": 4,
      "outputs": [
        {
          "output_type": "stream",
          "name": "stdout",
          "text": [
            "Enter a number 11\n",
            "Odd numb\n"
          ]
        }
      ]
    },
    {
      "cell_type": "code",
      "source": [
        "a= 29\n",
        "b=9\n",
        "c=5\n",
        "p=a/b\n",
        "print(\"p=\",p)\n",
        "q=a//b\n",
        "print(\"q=\",q)\n",
        "m=a/c\n",
        "t=a//c\n",
        "print(\"m=\",m)\n",
        "print(\"t=\",t)"
      ],
      "metadata": {
        "colab": {
          "base_uri": "https://localhost:8080/"
        },
        "id": "4oO7hIR9DHXu",
        "outputId": "99617531-3ca9-4029-e825-e2832abbfaee"
      },
      "execution_count": 7,
      "outputs": [
        {
          "output_type": "stream",
          "name": "stdout",
          "text": [
            "p= 3.2222222222222223\n",
            "q= 3\n",
            "m= 5.8\n",
            "t= 5\n"
          ]
        }
      ]
    }
  ]
}