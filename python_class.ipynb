{
  "nbformat": 4,
  "nbformat_minor": 0,
  "metadata": {
    "colab": {
      "provenance": [],
      "collapsed_sections": [],
      "authorship_tag": "ABX9TyPlGG1Q2ti7Lna1YmZloFMQ",
      "include_colab_link": true
    },
    "kernelspec": {
      "name": "python3",
      "display_name": "Python 3"
    },
    "language_info": {
      "name": "python"
    }
  },
  "cells": [
    {
      "cell_type": "markdown",
      "metadata": {
        "id": "view-in-github",
        "colab_type": "text"
      },
      "source": [
        "<a href=\"https://colab.research.google.com/github/anand1994sp/My-first-repository/blob/main/python_class.ipynb\" target=\"_parent\"><img src=\"https://colab.research.google.com/assets/colab-badge.svg\" alt=\"Open In Colab\"/></a>"
      ]
    },
    {
      "cell_type": "code",
      "execution_count": null,
      "metadata": {
        "colab": {
          "base_uri": "https://localhost:8080/"
        },
        "id": "jKsYHKz1gfD9",
        "outputId": "e57bc799-f9ec-408a-8562-888b5349e8d7"
      },
      "outputs": [
        {
          "output_type": "stream",
          "name": "stdout",
          "text": [
            "Hello Good Afternoon\n"
          ]
        }
      ],
      "source": [
        "print(\"Hello Good Afternoon\")"
      ]
    },
    {
      "cell_type": "code",
      "source": [
        "#WAP to find the sum of two numbers\n",
        "a=int(input(\"Enter a number \"))\n",
        "b=int(input(\"Enter a number \"))\n",
        "s=a+b\n",
        "print(\"sum=\",s)"
      ],
      "metadata": {
        "id": "PKS694klo5Cy"
      },
      "execution_count": null,
      "outputs": []
    },
    {
      "cell_type": "code",
      "source": [
        "#Write a program to multiply 2 numbers\n",
        "a=int(input(\"Enter a number \"))\n",
        "b=int(input(\"Enter a number \"))\n",
        "p=a*b\n",
        "print(\"product=\",p)"
      ],
      "metadata": {
        "colab": {
          "base_uri": "https://localhost:8080/"
        },
        "id": "UyutHuN8pTS-",
        "outputId": "f6560b4e-9ef3-4f2d-8c52-8cc9eb108778"
      },
      "execution_count": null,
      "outputs": [
        {
          "output_type": "stream",
          "name": "stdout",
          "text": [
            "Enter a number 2\n",
            "Enter a number 8\n",
            "product= 16\n"
          ]
        }
      ]
    },
    {
      "cell_type": "code",
      "source": [
        "#Write a Program to sum of 5 numbers?\n",
        "a=int(input(\"Enter a number \"))\n",
        "b=int(input(\"Enter a number \"))\n",
        "c=int(input(\"Enter a number \"))\n",
        "d=int(input(\"Enter a number \"))\n",
        "e=int(input(\"Enter a number \"))\n",
        "sum=a+b+c+d+e\n",
        "print(\"Sum=\",sum)"
      ],
      "metadata": {
        "colab": {
          "base_uri": "https://localhost:8080/"
        },
        "id": "Sq5B6pX6qSdD",
        "outputId": "2c57486f-909e-469a-ce4e-7c3426aa3c08"
      },
      "execution_count": null,
      "outputs": [
        {
          "output_type": "stream",
          "name": "stdout",
          "text": [
            "Enter a number 1\n",
            "Enter a number 2\n",
            "Enter a number 3\n",
            "Enter a number 4\n",
            "Enter a number 5\n",
            "Sum= 15\n"
          ]
        }
      ]
    },
    {
      "cell_type": "code",
      "source": [
        "#Write a program to find area and perimeter of a rectangle\n",
        "l=int(input(\"Enter length \"))\n",
        "b=int(input(\"Enter breadth \"))\n",
        "a=l*b\n",
        "p=2*(l+b)\n",
        "print(\"Area a Rectangle is\",a)\n",
        "print(\"Perimeter of the rectangle is\",p)"
      ],
      "metadata": {
        "id": "waLrJcw8s2HB",
        "outputId": "c3201a10-d00b-4eb5-ed14-f5715dbc32ab",
        "colab": {
          "base_uri": "https://localhost:8080/"
        }
      },
      "execution_count": null,
      "outputs": [
        {
          "output_type": "stream",
          "name": "stdout",
          "text": [
            "Enter length 5\n",
            "Enter breadth 6\n",
            "Area a Rectangle is 30\n",
            "Perimeter of the rectangle is 22\n"
          ]
        }
      ]
    },
    {
      "cell_type": "code",
      "source": [
        "#To find the area and circumference of a circle\n",
        "pi=3.14\n",
        "r=int(input(\"Enter the radius of the circle \"))\n",
        "a=pi*r*r\n",
        "c=2*pi*r\n",
        "print(\"Area of the circle is\",a)\n",
        "print(\"Circumference of the circle\",c)"
      ],
      "metadata": {
        "id": "yy1zf0VQuGGr",
        "outputId": "2d3ac6d4-96f3-49b8-b2ed-1a290f25876e",
        "colab": {
          "base_uri": "https://localhost:8080/"
        }
      },
      "execution_count": null,
      "outputs": [
        {
          "output_type": "stream",
          "name": "stdout",
          "text": [
            "Enter the radius of the circle 4\n",
            "Area of the circle is 50.24\n",
            "Circumference of the circle 25.12\n"
          ]
        }
      ]
    },
    {
      "cell_type": "code",
      "source": [
        "#Volume a spher\n",
        "pi=3.14\n",
        "r=int(input(\"Enter the radius of the sphere \"))\n",
        "v=(4/3)*pi*r*r*r\n",
        "print(\"Volume of the sphere is\",v)"
      ],
      "metadata": {
        "id": "f4tJzdYOwgoU",
        "outputId": "fcc7a811-cadb-4344-d5fd-5e31e22e5c51",
        "colab": {
          "base_uri": "https://localhost:8080/"
        }
      },
      "execution_count": null,
      "outputs": [
        {
          "output_type": "stream",
          "name": "stdout",
          "text": [
            "Enter the radius of the sphere 5\n",
            "Volume of the sphere is 523.3333333333334\n"
          ]
        }
      ]
    },
    {
      "cell_type": "code",
      "source": [
        "#Find a program to input 3 numbers and find second greatest number\n",
        "a=int(input('enter the first num'))\n",
        "b=int(input('enter the second num'))\n",
        "c=int(input('enter the third num'))\n",
        "if a>b and a<c:\n",
        "  print('second greatest',a)\n",
        "elif b>a and b<c:\n",
        "  print('second greatest',b)\n",
        "else:\n",
        "  print('second greatest',c)\n"
      ],
      "metadata": {
        "id": "YhB1mxZ-3qVt",
        "colab": {
          "base_uri": "https://localhost:8080/"
        },
        "outputId": "58239fbf-bd02-465f-d9f5-b7c0cb4761d6"
      },
      "execution_count": null,
      "outputs": [
        {
          "output_type": "stream",
          "name": "stdout",
          "text": [
            "enter the first num3\n",
            "enter the second num1\n",
            "enter the third num2\n",
            "second greatest 2\n"
          ]
        }
      ]
    },
    {
      "cell_type": "code",
      "source": [
        "# WAP to input a number check whether it is even or odd\n",
        "a=int(input(\"Enter a number \"))\n",
        "if a%2 == 0:\n",
        "  print(\"Even numb\")\n",
        "else:\n",
        "  print(\"Odd numb\")\n",
        "    "
      ],
      "metadata": {
        "colab": {
          "base_uri": "https://localhost:8080/"
        },
        "id": "6b2G7l9PBiBT",
        "outputId": "6014d620-e49a-4c29-83b6-e560c6208d16"
      },
      "execution_count": null,
      "outputs": [
        {
          "output_type": "stream",
          "name": "stdout",
          "text": [
            "Enter a number 11\n",
            "Odd numb\n"
          ]
        }
      ]
    },
    {
      "cell_type": "code",
      "source": [
        "a= 29\n",
        "b=9\n",
        "c=5\n",
        "p=a/b\n",
        "print(\"p=\",p)\n",
        "q=a//b\n",
        "print(\"q=\",q)\n",
        "m=a/c\n",
        "t=a//c\n",
        "print(\"m=\",m)\n",
        "print(\"t=\",t)"
      ],
      "metadata": {
        "colab": {
          "base_uri": "https://localhost:8080/"
        },
        "id": "4oO7hIR9DHXu",
        "outputId": "99617531-3ca9-4029-e825-e2832abbfaee"
      },
      "execution_count": null,
      "outputs": [
        {
          "output_type": "stream",
          "name": "stdout",
          "text": [
            "p= 3.2222222222222223\n",
            "q= 3\n",
            "m= 5.8\n",
            "t= 5\n"
          ]
        }
      ]
    },
    {
      "cell_type": "code",
      "source": [
        "#WAP to display the numbers from 1 to 7\n",
        "for i in range(1,8,):\n",
        "  print(i)"
      ],
      "metadata": {
        "colab": {
          "base_uri": "https://localhost:8080/"
        },
        "id": "GX3BZPh4HV4_",
        "outputId": "487e72d1-83d6-4cd8-92ff-9b58afa8570b"
      },
      "execution_count": null,
      "outputs": [
        {
          "output_type": "stream",
          "name": "stdout",
          "text": [
            "1\n",
            "2\n",
            "3\n",
            "4\n",
            "5\n",
            "6\n",
            "7\n"
          ]
        }
      ]
    },
    {
      "cell_type": "code",
      "source": [
        "# WAP to display all the values from 1 to n\n",
        "n=int(input(\"Enter the limit\"))\n",
        "for i in range(1,n+1):\n",
        "  print(i)\n"
      ],
      "metadata": {
        "colab": {
          "base_uri": "https://localhost:8080/"
        },
        "id": "SDN6jTyvJ9UH",
        "outputId": "bba484ca-f769-4fc0-f0d5-55cafedd7ad0"
      },
      "execution_count": null,
      "outputs": [
        {
          "output_type": "stream",
          "name": "stdout",
          "text": [
            "Enter the limit7\n",
            "1\n",
            "2\n",
            "3\n",
            "4\n",
            "5\n",
            "6\n",
            "7\n"
          ]
        }
      ]
    },
    {
      "cell_type": "code",
      "source": [
        "#WAP to  display the series 5,10,15,...100\n",
        "\n",
        "for i in range(5,101,5):\n",
        "  print(i)"
      ],
      "metadata": {
        "colab": {
          "base_uri": "https://localhost:8080/"
        },
        "id": "dhoJ7mfQKml9",
        "outputId": "8cf0110a-1d8d-46b7-aca8-44456cff71c0"
      },
      "execution_count": null,
      "outputs": [
        {
          "output_type": "stream",
          "name": "stdout",
          "text": [
            "5\n",
            "10\n",
            "15\n",
            "20\n",
            "25\n",
            "30\n",
            "35\n",
            "40\n",
            "45\n",
            "50\n",
            "55\n",
            "60\n",
            "65\n",
            "70\n",
            "75\n",
            "80\n",
            "85\n",
            "90\n",
            "95\n",
            "100\n"
          ]
        }
      ]
    },
    {
      "cell_type": "code",
      "source": [],
      "metadata": {
        "id": "iUvpxAlhLuzI"
      },
      "execution_count": null,
      "outputs": []
    },
    {
      "cell_type": "code",
      "source": [
        "# WAP to display the series 1,4,9,16,...n terms\n",
        "n=int(input(\"Enter a number to find it's series square \"))\n",
        "for i in range(1,n+1):\n",
        "  print(i*i)\n"
      ],
      "metadata": {
        "colab": {
          "base_uri": "https://localhost:8080/"
        },
        "id": "QG-b1uN1K8oL",
        "outputId": "0ddd49a0-610f-40e0-fd5e-56e7512cd9ed"
      },
      "execution_count": null,
      "outputs": [
        {
          "output_type": "stream",
          "name": "stdout",
          "text": [
            "Enter a Square number 9\n",
            "1\n",
            "4\n",
            "9\n",
            "16\n",
            "25\n",
            "36\n",
            "49\n",
            "64\n",
            "81\n"
          ]
        }
      ]
    },
    {
      "cell_type": "code",
      "source": [
        "# WAP to display the series 10,20,30,...n\n",
        "n=int(input(\"Enter a number \"))\n",
        "for i in range(1,n+1):\n",
        "  print(i*10)\n"
      ],
      "metadata": {
        "colab": {
          "base_uri": "https://localhost:8080/"
        },
        "id": "sW4veAMHM6f2",
        "outputId": "10992555-8d80-483c-e5b7-99f0da146b22"
      },
      "execution_count": null,
      "outputs": [
        {
          "output_type": "stream",
          "name": "stdout",
          "text": [
            "Enter a number 52\n",
            "10\n",
            "20\n",
            "30\n",
            "40\n",
            "50\n",
            "60\n",
            "70\n",
            "80\n",
            "90\n",
            "100\n",
            "110\n",
            "120\n",
            "130\n",
            "140\n",
            "150\n",
            "160\n",
            "170\n",
            "180\n",
            "190\n",
            "200\n",
            "210\n",
            "220\n",
            "230\n",
            "240\n",
            "250\n",
            "260\n",
            "270\n",
            "280\n",
            "290\n",
            "300\n",
            "310\n",
            "320\n",
            "330\n",
            "340\n",
            "350\n",
            "360\n",
            "370\n",
            "380\n",
            "390\n",
            "400\n",
            "410\n",
            "420\n",
            "430\n",
            "440\n",
            "450\n",
            "460\n",
            "470\n",
            "480\n",
            "490\n",
            "500\n",
            "510\n",
            "520\n"
          ]
        }
      ]
    },
    {
      "cell_type": "code",
      "source": [
        "#WAP print multiple table of a number\n",
        "n=int(input(\"Enter table number : \"))\n",
        "for i in range(1,11):\n",
        "  print(n,\"*\",i,\"=\",n*i)"
      ],
      "metadata": {
        "colab": {
          "base_uri": "https://localhost:8080/"
        },
        "id": "WJeiIDqYNIO4",
        "outputId": "58b38801-d046-4ff5-950b-60dff04d9afa"
      },
      "execution_count": null,
      "outputs": [
        {
          "output_type": "stream",
          "name": "stdout",
          "text": [
            "Enter table number : 12\n",
            "12 * 1 = 12\n",
            "12 * 2 = 24\n",
            "12 * 3 = 36\n",
            "12 * 4 = 48\n",
            "12 * 5 = 60\n",
            "12 * 6 = 72\n",
            "12 * 7 = 84\n",
            "12 * 8 = 96\n",
            "12 * 9 = 108\n",
            "12 * 10 = 120\n"
          ]
        }
      ]
    },
    {
      "cell_type": "code",
      "source": [
        "#WAP to find the sum of all natural numbers upto n\n",
        "n=int(input(\"Enter the nth number:  \"))\n",
        "s=0\n",
        "for i in range(1,n+1):\n",
        "  s=s+i\n",
        "print(\"Sum=\",s)  "
      ],
      "metadata": {
        "id": "fNSDBMFAOMJl",
        "colab": {
          "base_uri": "https://localhost:8080/"
        },
        "outputId": "8fad068d-0cd5-4442-bbc4-1c33a7124fd3"
      },
      "execution_count": null,
      "outputs": [
        {
          "output_type": "stream",
          "name": "stdout",
          "text": [
            "Enter the nth number:  5\n",
            "Sum= 15\n"
          ]
        }
      ]
    },
    {
      "cell_type": "code",
      "source": [
        "#WAP to find the factorial of numbers\n",
        "n=int(input(\"Enter a number: \"))\n",
        "f=1\n",
        "for i in range(1,n+1):\n",
        "  f=f*i\n",
        "print(\"Factorial=\",f)  "
      ],
      "metadata": {
        "colab": {
          "base_uri": "https://localhost:8080/"
        },
        "id": "PJHFCw9cQdFN",
        "outputId": "6c42c273-7903-4ac3-fdda-8c2ad5618b32"
      },
      "execution_count": null,
      "outputs": [
        {
          "output_type": "stream",
          "name": "stdout",
          "text": [
            "Enter a number:  5\n",
            "Factorial= 120\n"
          ]
        }
      ]
    },
    {
      "cell_type": "code",
      "source": [
        "#WAP to input and display the factors of the entered number\n",
        "n=int(input(\"Enter a Number: \"))\n",
        "for i in range(1,int(n/2+1)):\n",
        "  if(n%i==0):\n",
        "    print(i,end=\",\")\n",
        "print(n)\n"
      ],
      "metadata": {
        "colab": {
          "base_uri": "https://localhost:8080/"
        },
        "id": "Mo7qKeaq8uCy",
        "outputId": "55ea1e5f-b70d-4008-b983-bd8eefa3b8ee"
      },
      "execution_count": null,
      "outputs": [
        {
          "output_type": "stream",
          "name": "stdout",
          "text": [
            "Enter a Number: 10\n",
            "1,2,5,10\n"
          ]
        }
      ]
    },
    {
      "cell_type": "code",
      "source": [
        "#WAP to find the sum of factors of the entered number excluding that number\n",
        "n=int(input(\"Enter a Number: \"))\n",
        "sum=0\n",
        "for i in range(1,int(n/2+1)):\n",
        "  if(n%i==0):\n",
        "    sum=sum+i\n",
        "print(\"Sum of factors is: \",sum)\n"
      ],
      "metadata": {
        "colab": {
          "base_uri": "https://localhost:8080/"
        },
        "id": "_q94y8I1_LlE",
        "outputId": "8213feb1-b5b0-44f5-bd65-4e808d9e26b7"
      },
      "execution_count": null,
      "outputs": [
        {
          "output_type": "stream",
          "name": "stdout",
          "text": [
            "Enter a Number: 10\n",
            "Sum of factors is:  8\n"
          ]
        }
      ]
    },
    {
      "cell_type": "code",
      "source": [
        "#WAP to input a number check whether it is a perfect number or not\n",
        "#A perfect number is a number whose sum of factors (excluding that number)is equal that number\n",
        "n=int(input(\"Enter a Number: \"))\n",
        "sum=0\n",
        "for i in range(1,int(n/2+1)):\n",
        "  if(n%i==0):\n",
        "    sum=sum+i\n",
        "if sum==n:\n",
        "  print(\"The given number\",n,\"is perfect number\")\n",
        "else:\n",
        "  print(\"Not a perfect number\")  "
      ],
      "metadata": {
        "colab": {
          "base_uri": "https://localhost:8080/"
        },
        "id": "uRCFNht9_uat",
        "outputId": "12c3d247-3607-4335-957a-2b3b9ebd3d26"
      },
      "execution_count": null,
      "outputs": [
        {
          "output_type": "stream",
          "name": "stdout",
          "text": [
            "Enter a Number: 6\n",
            "The given number 6 is perfect number\n"
          ]
        }
      ]
    },
    {
      "cell_type": "code",
      "source": [
        "#WAP to check if the number give is prime or not\n",
        "n=int(input(\"Enter a number: \"))\n",
        "f=0\n",
        "for i in range(2,int(n/2)+1):\n",
        "  if n%i==0:\n",
        "    f=1\n",
        "    break\n",
        "if f==0:\n",
        "  print(\"Prime Number\")\n",
        "else:\n",
        "  print(\"Composite Number\")      "
      ],
      "metadata": {
        "colab": {
          "base_uri": "https://localhost:8080/"
        },
        "id": "Pj6xrJhoCn_p",
        "outputId": "ba2bd152-89f8-4ae5-f53b-15058790d942"
      },
      "execution_count": null,
      "outputs": [
        {
          "output_type": "stream",
          "name": "stdout",
          "text": [
            "Enter a number: 11\n",
            "Prime Number\n"
          ]
        }
      ]
    },
    {
      "cell_type": "code",
      "source": [
        "name=\"Anand\"\n",
        "print(name)\n",
        "type(name)"
      ],
      "metadata": {
        "colab": {
          "base_uri": "https://localhost:8080/"
        },
        "id": "PenX566WFmQF",
        "outputId": "ef1990bd-386c-4c4e-9009-df01ffed5ca7"
      },
      "execution_count": null,
      "outputs": [
        {
          "output_type": "stream",
          "name": "stdout",
          "text": [
            "Anand\n"
          ]
        },
        {
          "output_type": "execute_result",
          "data": {
            "text/plain": [
              "str"
            ]
          },
          "metadata": {},
          "execution_count": 15
        }
      ]
    },
    {
      "cell_type": "code",
      "source": [
        "text=\"I love python\"\n",
        "text[0]\n",
        "text[:]\n",
        "text[:len(text)]\n",
        "len(text)"
      ],
      "metadata": {
        "colab": {
          "base_uri": "https://localhost:8080/"
        },
        "id": "34i4gGqFIHHo",
        "outputId": "9b329b66-2bcb-453a-b9f1-4ed31aceded4"
      },
      "execution_count": null,
      "outputs": [
        {
          "output_type": "execute_result",
          "data": {
            "text/plain": [
              "13"
            ]
          },
          "metadata": {},
          "execution_count": 21
        }
      ]
    },
    {
      "cell_type": "code",
      "source": [
        "text[0:6]"
      ],
      "metadata": {
        "colab": {
          "base_uri": "https://localhost:8080/",
          "height": 35
        },
        "id": "If_Gx5z_JSn6",
        "outputId": "aa176199-7c3d-4494-c68b-0adb03b1583a"
      },
      "execution_count": null,
      "outputs": [
        {
          "output_type": "execute_result",
          "data": {
            "text/plain": [
              "'I love'"
            ],
            "application/vnd.google.colaboratory.intrinsic+json": {
              "type": "string"
            }
          },
          "metadata": {},
          "execution_count": 22
        }
      ]
    },
    {
      "cell_type": "code",
      "source": [
        "text[2:]"
      ],
      "metadata": {
        "colab": {
          "base_uri": "https://localhost:8080/",
          "height": 35
        },
        "id": "JzATLTtTJZ81",
        "outputId": "e317e6ec-37ec-4c18-fe8d-85e3e4bf2cef"
      },
      "execution_count": null,
      "outputs": [
        {
          "output_type": "execute_result",
          "data": {
            "text/plain": [
              "'love python'"
            ],
            "application/vnd.google.colaboratory.intrinsic+json": {
              "type": "string"
            }
          },
          "metadata": {},
          "execution_count": 23
        }
      ]
    },
    {
      "cell_type": "code",
      "source": [
        "text[7:13]"
      ],
      "metadata": {
        "colab": {
          "base_uri": "https://localhost:8080/",
          "height": 35
        },
        "id": "KC8wSJ8OJcnv",
        "outputId": "d8c89721-9d7f-4571-b24b-a639c72528a8"
      },
      "execution_count": null,
      "outputs": [
        {
          "output_type": "execute_result",
          "data": {
            "text/plain": [
              "'python'"
            ],
            "application/vnd.google.colaboratory.intrinsic+json": {
              "type": "string"
            }
          },
          "metadata": {},
          "execution_count": 24
        }
      ]
    },
    {
      "cell_type": "code",
      "source": [
        "text[1:-1]"
      ],
      "metadata": {
        "colab": {
          "base_uri": "https://localhost:8080/",
          "height": 35
        },
        "id": "wIvUAYwyKYNq",
        "outputId": "1bb12e95-a243-411f-8595-527f0c92aeb8"
      },
      "execution_count": null,
      "outputs": [
        {
          "output_type": "execute_result",
          "data": {
            "text/plain": [
              "' love pytho'"
            ],
            "application/vnd.google.colaboratory.intrinsic+json": {
              "type": "string"
            }
          },
          "metadata": {},
          "execution_count": 25
        }
      ]
    },
    {
      "cell_type": "code",
      "source": [
        "text[::-1]"
      ],
      "metadata": {
        "colab": {
          "base_uri": "https://localhost:8080/",
          "height": 35
        },
        "id": "HJj7HmX2Kd5c",
        "outputId": "5e1de89c-3f0a-4600-906c-14b52bf8a782"
      },
      "execution_count": null,
      "outputs": [
        {
          "output_type": "execute_result",
          "data": {
            "text/plain": [
              "'nohtyp evol I'"
            ],
            "application/vnd.google.colaboratory.intrinsic+json": {
              "type": "string"
            }
          },
          "metadata": {},
          "execution_count": 26
        }
      ]
    },
    {
      "cell_type": "code",
      "source": [
        "text[::-1][-6:-1]"
      ],
      "metadata": {
        "colab": {
          "base_uri": "https://localhost:8080/",
          "height": 35
        },
        "id": "SZ_nLWz8KlH1",
        "outputId": "b4bc7008-beec-4721-f607-56fdbfbbd785"
      },
      "execution_count": null,
      "outputs": [
        {
          "output_type": "execute_result",
          "data": {
            "text/plain": [
              "'evol '"
            ],
            "application/vnd.google.colaboratory.intrinsic+json": {
              "type": "string"
            }
          },
          "metadata": {},
          "execution_count": 32
        }
      ]
    },
    {
      "cell_type": "code",
      "source": [
        "text.replace(\"python\",\"Data Science\")"
      ],
      "metadata": {
        "colab": {
          "base_uri": "https://localhost:8080/",
          "height": 35
        },
        "id": "j6cRwLB8MtVC",
        "outputId": "78082d07-019b-464c-c9ed-1342f8d75442"
      },
      "execution_count": null,
      "outputs": [
        {
          "output_type": "execute_result",
          "data": {
            "text/plain": [
              "'I love Data Science'"
            ],
            "application/vnd.google.colaboratory.intrinsic+json": {
              "type": "string"
            }
          },
          "metadata": {},
          "execution_count": 35
        }
      ]
    },
    {
      "cell_type": "code",
      "source": [
        "text.upper()"
      ],
      "metadata": {
        "colab": {
          "base_uri": "https://localhost:8080/",
          "height": 35
        },
        "id": "uPxCWp8cM-VW",
        "outputId": "6a927780-627c-4c68-eb93-e0883eb68627"
      },
      "execution_count": null,
      "outputs": [
        {
          "output_type": "execute_result",
          "data": {
            "text/plain": [
              "'I LOVE PYTHON'"
            ],
            "application/vnd.google.colaboratory.intrinsic+json": {
              "type": "string"
            }
          },
          "metadata": {},
          "execution_count": 36
        }
      ]
    },
    {
      "cell_type": "code",
      "source": [
        "text=text.replace(\"python\",\"Data Science\")\n",
        "print(text)"
      ],
      "metadata": {
        "colab": {
          "base_uri": "https://localhost:8080/"
        },
        "id": "_yY_ZV8fNCGF",
        "outputId": "26e357b5-8e22-425f-dbb5-1d71216f1a9f"
      },
      "execution_count": null,
      "outputs": [
        {
          "output_type": "stream",
          "name": "stdout",
          "text": [
            "I love Data Science\n"
          ]
        }
      ]
    },
    {
      "cell_type": "code",
      "source": [
        "text.lower()"
      ],
      "metadata": {
        "colab": {
          "base_uri": "https://localhost:8080/",
          "height": 35
        },
        "id": "-a8O0zmBNTNl",
        "outputId": "f04f073d-af43-4bf4-a283-572f5c4dbae2"
      },
      "execution_count": null,
      "outputs": [
        {
          "output_type": "execute_result",
          "data": {
            "text/plain": [
              "'i love data science'"
            ],
            "application/vnd.google.colaboratory.intrinsic+json": {
              "type": "string"
            }
          },
          "metadata": {},
          "execution_count": 41
        }
      ]
    },
    {
      "cell_type": "code",
      "source": [
        "text.title()"
      ],
      "metadata": {
        "colab": {
          "base_uri": "https://localhost:8080/",
          "height": 35
        },
        "id": "02YwWSe0Nm1E",
        "outputId": "f1d2f89c-d864-450b-d4e3-3127f6694402"
      },
      "execution_count": null,
      "outputs": [
        {
          "output_type": "execute_result",
          "data": {
            "text/plain": [
              "'I Love Data Science'"
            ],
            "application/vnd.google.colaboratory.intrinsic+json": {
              "type": "string"
            }
          },
          "metadata": {},
          "execution_count": 42
        }
      ]
    },
    {
      "cell_type": "code",
      "source": [
        "date=\"08\",\"03\",\"2020\"\n",
        "\n",
        "\"-\".join(date)"
      ],
      "metadata": {
        "colab": {
          "base_uri": "https://localhost:8080/",
          "height": 35
        },
        "id": "1PsoVYXTN6w6",
        "outputId": "3eb1d672-d682-41de-9590-227aecd23cb6"
      },
      "execution_count": null,
      "outputs": [
        {
          "output_type": "execute_result",
          "data": {
            "text/plain": [
              "'08-03-2020'"
            ],
            "application/vnd.google.colaboratory.intrinsic+json": {
              "type": "string"
            }
          },
          "metadata": {},
          "execution_count": 44
        }
      ]
    },
    {
      "cell_type": "code",
      "source": [
        "text=\"***Python*for*****\"\n",
        "text.strip(\"*\")"
      ],
      "metadata": {
        "colab": {
          "base_uri": "https://localhost:8080/",
          "height": 35
        },
        "id": "pyufdYC2OOjp",
        "outputId": "910893c1-104e-42e6-cc16-d47dd25f186a"
      },
      "execution_count": null,
      "outputs": [
        {
          "output_type": "execute_result",
          "data": {
            "text/plain": [
              "'Python*for'"
            ],
            "application/vnd.google.colaboratory.intrinsic+json": {
              "type": "string"
            }
          },
          "metadata": {},
          "execution_count": 46
        }
      ]
    },
    {
      "cell_type": "code",
      "source": [
        "text.lstrip(\"*\")"
      ],
      "metadata": {
        "colab": {
          "base_uri": "https://localhost:8080/",
          "height": 35
        },
        "id": "YNoUolWDOuiD",
        "outputId": "2f750d3a-49fe-400a-cf64-a83835bbec64"
      },
      "execution_count": null,
      "outputs": [
        {
          "output_type": "execute_result",
          "data": {
            "text/plain": [
              "'Python*for*****'"
            ],
            "application/vnd.google.colaboratory.intrinsic+json": {
              "type": "string"
            }
          },
          "metadata": {},
          "execution_count": 47
        }
      ]
    },
    {
      "cell_type": "code",
      "source": [
        "text.rstrip(\"*\")"
      ],
      "metadata": {
        "colab": {
          "base_uri": "https://localhost:8080/",
          "height": 35
        },
        "id": "Jw52pwWZOy1s",
        "outputId": "81becd47-9939-4cb8-cb8d-a69626943157"
      },
      "execution_count": null,
      "outputs": [
        {
          "output_type": "execute_result",
          "data": {
            "text/plain": [
              "'***Python*for'"
            ],
            "application/vnd.google.colaboratory.intrinsic+json": {
              "type": "string"
            }
          },
          "metadata": {},
          "execution_count": 48
        }
      ]
    },
    {
      "cell_type": "code",
      "source": [
        "x=\"AmaZing\"\n",
        "print(x[3:],\"and\",x[:2])\n",
        "print(x[-7:],\"and\",x[-4:-2])\n",
        "print(x[2:7],\"and\",x[-4:-1])"
      ],
      "metadata": {
        "colab": {
          "base_uri": "https://localhost:8080/"
        },
        "id": "_J9Mf4fZPF-N",
        "outputId": "332e9d40-eb62-4c8b-fd4a-6ae680367a06"
      },
      "execution_count": null,
      "outputs": [
        {
          "output_type": "stream",
          "name": "stdout",
          "text": [
            "Zing and Am\n",
            "AmaZing and Zi\n",
            "aZing and Zin\n"
          ]
        }
      ]
    },
    {
      "cell_type": "code",
      "source": [
        "li=[45,23,67]\n",
        "print(li)\n",
        "print(type(li))\n",
        "print(max(li))\n",
        "print(min(li))\n",
        "print(len(li))\n"
      ],
      "metadata": {
        "colab": {
          "base_uri": "https://localhost:8080/"
        },
        "id": "JBDtqu39TSMs",
        "outputId": "e80f7ef4-27f6-4ee9-a4e7-fe1c3fa4bc5b"
      },
      "execution_count": null,
      "outputs": [
        {
          "output_type": "stream",
          "name": "stdout",
          "text": [
            "[45, 23, 67]\n",
            "<class 'list'>\n",
            "67\n",
            "23\n",
            "3\n"
          ]
        }
      ]
    },
    {
      "cell_type": "code",
      "source": [
        "n=list()"
      ],
      "metadata": {
        "id": "FeYhAKDJTwqW"
      },
      "execution_count": null,
      "outputs": []
    },
    {
      "cell_type": "code",
      "source": [
        "type(n)"
      ],
      "metadata": {
        "colab": {
          "base_uri": "https://localhost:8080/"
        },
        "id": "LvMtscA1Tzf6",
        "outputId": "c26b019c-677a-4403-bb4d-3fe16c4c0bb3"
      },
      "execution_count": null,
      "outputs": [
        {
          "output_type": "execute_result",
          "data": {
            "text/plain": [
              "list"
            ]
          },
          "metadata": {},
          "execution_count": 54
        }
      ]
    },
    {
      "cell_type": "code",
      "source": [
        "li.append(56)"
      ],
      "metadata": {
        "id": "Klz07DtdUqp-"
      },
      "execution_count": null,
      "outputs": []
    },
    {
      "cell_type": "code",
      "source": [
        "li"
      ],
      "metadata": {
        "colab": {
          "base_uri": "https://localhost:8080/"
        },
        "id": "YqzLHgjKUyI8",
        "outputId": "2dc17abe-09da-4ea1-e7be-f8cd0cd98c41"
      },
      "execution_count": null,
      "outputs": [
        {
          "output_type": "execute_result",
          "data": {
            "text/plain": [
              "[45, 23, 67, 56]"
            ]
          },
          "metadata": {},
          "execution_count": 56
        }
      ]
    },
    {
      "cell_type": "code",
      "source": [
        "li.sort()"
      ],
      "metadata": {
        "id": "91FfqQUBU39R"
      },
      "execution_count": null,
      "outputs": []
    },
    {
      "cell_type": "code",
      "source": [
        "li"
      ],
      "metadata": {
        "colab": {
          "base_uri": "https://localhost:8080/"
        },
        "id": "xKGzJhNvU8EZ",
        "outputId": "779a11d0-1cf7-4430-bdc1-b66f8f98d878"
      },
      "execution_count": null,
      "outputs": [
        {
          "output_type": "execute_result",
          "data": {
            "text/plain": [
              "[23, 45, 56, 67]"
            ]
          },
          "metadata": {},
          "execution_count": 58
        }
      ]
    },
    {
      "cell_type": "code",
      "source": [
        "li.sort(reverse=True)\n"
      ],
      "metadata": {
        "id": "f6razOaWVCuA"
      },
      "execution_count": null,
      "outputs": []
    },
    {
      "cell_type": "code",
      "source": [
        "li"
      ],
      "metadata": {
        "colab": {
          "base_uri": "https://localhost:8080/"
        },
        "id": "3Fd53cs4VKub",
        "outputId": "cfcf4eb2-b37c-4010-cf92-644ec2b5d0a9"
      },
      "execution_count": null,
      "outputs": [
        {
          "output_type": "execute_result",
          "data": {
            "text/plain": [
              "[67, 56, 45, 23]"
            ]
          },
          "metadata": {},
          "execution_count": 61
        }
      ]
    },
    {
      "cell_type": "code",
      "source": [
        "li2=[56,24,32,19,10]\n",
        "l3=li+li2\n",
        "l3"
      ],
      "metadata": {
        "colab": {
          "base_uri": "https://localhost:8080/"
        },
        "id": "jYule0OGVlHo",
        "outputId": "a61e66d5-7389-45cb-aab6-8c91d398fbf3"
      },
      "execution_count": null,
      "outputs": [
        {
          "output_type": "execute_result",
          "data": {
            "text/plain": [
              "[67, 56, 45, 23, 56, 24, 32, 19, 10]"
            ]
          },
          "metadata": {},
          "execution_count": 62
        }
      ]
    },
    {
      "cell_type": "code",
      "source": [
        "products=[\"Dairy\",\"Bakery\",\"Grocery\",\"Clothing\",\"Bakery\",\"Dairy\",\"Cosmetics\",\"Bakery\"]\n",
        "products.index(\"Bakery\")\n"
      ],
      "metadata": {
        "colab": {
          "base_uri": "https://localhost:8080/"
        },
        "id": "c9Y26DmYfgzU",
        "outputId": "f2f52043-0708-4827-f233-e26291042592"
      },
      "execution_count": 63,
      "outputs": [
        {
          "output_type": "execute_result",
          "data": {
            "text/plain": [
              "1"
            ]
          },
          "metadata": {},
          "execution_count": 63
        }
      ]
    },
    {
      "cell_type": "code",
      "source": [
        "tu=(\"Happy\",\"Hello\",\"Hi\",\"Good\")\n",
        "print(tu)\n",
        "print(len(tu))"
      ],
      "metadata": {
        "colab": {
          "base_uri": "https://localhost:8080/"
        },
        "id": "ElVV3AeSjPLi",
        "outputId": "2d61a563-0cae-4b93-f4d9-cab8c5b418a4"
      },
      "execution_count": 64,
      "outputs": [
        {
          "output_type": "stream",
          "name": "stdout",
          "text": [
            "('Happy', 'Hello', 'Hi', 'Good')\n",
            "4\n"
          ]
        }
      ]
    },
    {
      "cell_type": "code",
      "source": [
        "print(tu)"
      ],
      "metadata": {
        "colab": {
          "base_uri": "https://localhost:8080/"
        },
        "id": "5JIBOaY7jjAS",
        "outputId": "40530978-cf98-4ba5-f00f-1973017a4a90"
      },
      "execution_count": 69,
      "outputs": [
        {
          "output_type": "stream",
          "name": "stdout",
          "text": [
            "('Happy', 'Hello', 'Hi', 'Good')\n"
          ]
        }
      ]
    },
    {
      "cell_type": "code",
      "source": [
        "print(sorted(tu))"
      ],
      "metadata": {
        "colab": {
          "base_uri": "https://localhost:8080/"
        },
        "id": "-4xOpR4qknrR",
        "outputId": "323c7829-489b-41f2-b9a6-74fd01f82ce6"
      },
      "execution_count": 70,
      "outputs": [
        {
          "output_type": "stream",
          "name": "stdout",
          "text": [
            "['Good', 'Happy', 'Hello', 'Hi']\n"
          ]
        }
      ]
    },
    {
      "cell_type": "code",
      "source": [
        "dictionary_list={'name' : 'Ariel','Hobbies':['painting','singing','cooking']}\n",
        "print(dictionary_list)"
      ],
      "metadata": {
        "colab": {
          "base_uri": "https://localhost:8080/"
        },
        "id": "TOzoBaMKksJd",
        "outputId": "df29fca9-25f3-47d0-dc70-13271c3a3fb1"
      },
      "execution_count": 75,
      "outputs": [
        {
          "output_type": "stream",
          "name": "stdout",
          "text": [
            "{'name': 'Ariel', 'Hobbies': ['painting', 'singing', 'cooking']}\n"
          ]
        }
      ]
    },
    {
      "cell_type": "code",
      "source": [
        "twister = \"can you can a can as a canner can can a can\"\n",
        "word_count={}\n",
        "for word in twister.split():\n",
        "  if word not in word_count:\n",
        "    word_count[word]=1\n",
        "  else:\n",
        "    word_count[word] += 1\n",
        "print(word_count) "
      ],
      "metadata": {
        "colab": {
          "base_uri": "https://localhost:8080/"
        },
        "id": "3UX0e_sJnx8b",
        "outputId": "cebf0a7c-86a7-447d-a578-a9ceee8ec31f"
      },
      "execution_count": 76,
      "outputs": [
        {
          "output_type": "stream",
          "name": "stdout",
          "text": [
            "{'can': 6, 'you': 1, 'a': 3, 'as': 1, 'canner': 1}\n"
          ]
        }
      ]
    },
    {
      "cell_type": "code",
      "source": [
        "#WAP to find the sum of 2 numbers using a function which dont return any value\n",
        "def add(aa,bb):\n",
        "  s=aa+bb\n",
        "  print(s)\n",
        "a= int(input(\"Enter a number: \"))\n",
        "b= int(input(\"Enter a number: \"))\n",
        "add(a,b)\n"
      ],
      "metadata": {
        "colab": {
          "base_uri": "https://localhost:8080/"
        },
        "id": "FnsI9ycXsZji",
        "outputId": "bf968651-d8c4-415c-b015-521348a8c19f"
      },
      "execution_count": 79,
      "outputs": [
        {
          "output_type": "stream",
          "name": "stdout",
          "text": [
            "Enter a number: 23\n",
            "Enter a number: 20\n",
            "43\n"
          ]
        }
      ]
    }
  ]
}