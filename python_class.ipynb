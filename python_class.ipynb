{
  "nbformat": 4,
  "nbformat_minor": 0,
  "metadata": {
    "colab": {
      "provenance": [],
      "collapsed_sections": [],
      "authorship_tag": "ABX9TyOcpat2npFIwXVFW14QJqOW",
      "include_colab_link": true
    },
    "kernelspec": {
      "name": "python3",
      "display_name": "Python 3"
    },
    "language_info": {
      "name": "python"
    }
  },
  "cells": [
    {
      "cell_type": "markdown",
      "metadata": {
        "id": "view-in-github",
        "colab_type": "text"
      },
      "source": [
        "<a href=\"https://colab.research.google.com/github/anand1994sp/My-first-repository/blob/main/python_class.ipynb\" target=\"_parent\"><img src=\"https://colab.research.google.com/assets/colab-badge.svg\" alt=\"Open In Colab\"/></a>"
      ]
    },
    {
      "cell_type": "code",
      "execution_count": null,
      "metadata": {
        "colab": {
          "base_uri": "https://localhost:8080/"
        },
        "id": "jKsYHKz1gfD9",
        "outputId": "e57bc799-f9ec-408a-8562-888b5349e8d7"
      },
      "outputs": [
        {
          "output_type": "stream",
          "name": "stdout",
          "text": [
            "Hello Good Afternoon\n"
          ]
        }
      ],
      "source": [
        "print(\"Hello Good Afternoon\")"
      ]
    },
    {
      "cell_type": "code",
      "source": [
        "#WAP to find the sum of two numbers\n",
        "a=int(input(\"Enter a number \"))\n",
        "b=int(input(\"Enter a number \"))\n",
        "s=a+b\n",
        "print(\"sum=\",s)"
      ],
      "metadata": {
        "id": "PKS694klo5Cy"
      },
      "execution_count": null,
      "outputs": []
    },
    {
      "cell_type": "code",
      "source": [
        "#Write a program to multiply 2 numbers\n",
        "a=int(input(\"Enter a number \"))\n",
        "b=int(input(\"Enter a number \"))\n",
        "p=a*b\n",
        "print(\"product=\",p)"
      ],
      "metadata": {
        "colab": {
          "base_uri": "https://localhost:8080/"
        },
        "id": "UyutHuN8pTS-",
        "outputId": "f6560b4e-9ef3-4f2d-8c52-8cc9eb108778"
      },
      "execution_count": null,
      "outputs": [
        {
          "output_type": "stream",
          "name": "stdout",
          "text": [
            "Enter a number 2\n",
            "Enter a number 8\n",
            "product= 16\n"
          ]
        }
      ]
    },
    {
      "cell_type": "code",
      "source": [
        "#Write a Program to sum of 5 numbers?\n",
        "a=int(input(\"Enter a number \"))\n",
        "b=int(input(\"Enter a number \"))\n",
        "c=int(input(\"Enter a number \"))\n",
        "d=int(input(\"Enter a number \"))\n",
        "e=int(input(\"Enter a number \"))\n",
        "sum=a+b+c+d+e\n",
        "print(\"Sum=\",sum)"
      ],
      "metadata": {
        "colab": {
          "base_uri": "https://localhost:8080/"
        },
        "id": "Sq5B6pX6qSdD",
        "outputId": "2c57486f-909e-469a-ce4e-7c3426aa3c08"
      },
      "execution_count": null,
      "outputs": [
        {
          "output_type": "stream",
          "name": "stdout",
          "text": [
            "Enter a number 1\n",
            "Enter a number 2\n",
            "Enter a number 3\n",
            "Enter a number 4\n",
            "Enter a number 5\n",
            "Sum= 15\n"
          ]
        }
      ]
    },
    {
      "cell_type": "code",
      "source": [
        "#Write a program to find area and perimeter of a rectangle\n",
        "l=int(input(\"Enter length \"))\n",
        "b=int(input(\"Enter breadth \"))\n",
        "a=l*b\n",
        "p=2*(l+b)\n",
        "print(\"Area a Rectangle is\",a)\n",
        "print(\"Perimeter of the rectangle is\",p)"
      ],
      "metadata": {
        "id": "waLrJcw8s2HB",
        "outputId": "c3201a10-d00b-4eb5-ed14-f5715dbc32ab",
        "colab": {
          "base_uri": "https://localhost:8080/"
        }
      },
      "execution_count": null,
      "outputs": [
        {
          "output_type": "stream",
          "name": "stdout",
          "text": [
            "Enter length 5\n",
            "Enter breadth 6\n",
            "Area a Rectangle is 30\n",
            "Perimeter of the rectangle is 22\n"
          ]
        }
      ]
    },
    {
      "cell_type": "code",
      "source": [
        "#To find the area and circumference of a circle\n",
        "pi=3.14\n",
        "r=int(input(\"Enter the radius of the circle \"))\n",
        "a=pi*r*r\n",
        "c=2*pi*r\n",
        "print(\"Area of the circle is\",a)\n",
        "print(\"Circumference of the circle\",c)"
      ],
      "metadata": {
        "id": "yy1zf0VQuGGr",
        "outputId": "2d3ac6d4-96f3-49b8-b2ed-1a290f25876e",
        "colab": {
          "base_uri": "https://localhost:8080/"
        }
      },
      "execution_count": null,
      "outputs": [
        {
          "output_type": "stream",
          "name": "stdout",
          "text": [
            "Enter the radius of the circle 4\n",
            "Area of the circle is 50.24\n",
            "Circumference of the circle 25.12\n"
          ]
        }
      ]
    },
    {
      "cell_type": "code",
      "source": [
        "#Volume a spher\n",
        "pi=3.14\n",
        "r=int(input(\"Enter the radius of the sphere \"))\n",
        "v=(4/3)*pi*r*r*r\n",
        "print(\"Volume of the sphere is\",v)"
      ],
      "metadata": {
        "id": "f4tJzdYOwgoU",
        "outputId": "fcc7a811-cadb-4344-d5fd-5e31e22e5c51",
        "colab": {
          "base_uri": "https://localhost:8080/"
        }
      },
      "execution_count": null,
      "outputs": [
        {
          "output_type": "stream",
          "name": "stdout",
          "text": [
            "Enter the radius of the sphere 5\n",
            "Volume of the sphere is 523.3333333333334\n"
          ]
        }
      ]
    },
    {
      "cell_type": "code",
      "source": [
        "#Find a program to input 3 numbers and find second greatest number\n",
        "a=int(input('enter the first num'))\n",
        "b=int(input('enter the second num'))\n",
        "c=int(input('enter the third num'))\n",
        "if a>b and a<c:\n",
        "  print('second greatest',a)\n",
        "elif b>a and b<c:\n",
        "  print('second greatest',b)\n",
        "else:\n",
        "  print('second greatest',c)\n"
      ],
      "metadata": {
        "id": "YhB1mxZ-3qVt",
        "colab": {
          "base_uri": "https://localhost:8080/"
        },
        "outputId": "58239fbf-bd02-465f-d9f5-b7c0cb4761d6"
      },
      "execution_count": null,
      "outputs": [
        {
          "output_type": "stream",
          "name": "stdout",
          "text": [
            "enter the first num3\n",
            "enter the second num1\n",
            "enter the third num2\n",
            "second greatest 2\n"
          ]
        }
      ]
    },
    {
      "cell_type": "code",
      "source": [
        "# WAP to input a number check whether it is even or odd\n",
        "a=int(input(\"Enter a number \"))\n",
        "if a%2 == 0:\n",
        "  print(\"Even numb\")\n",
        "else:\n",
        "  print(\"Odd numb\")\n",
        "    "
      ],
      "metadata": {
        "colab": {
          "base_uri": "https://localhost:8080/"
        },
        "id": "6b2G7l9PBiBT",
        "outputId": "6014d620-e49a-4c29-83b6-e560c6208d16"
      },
      "execution_count": null,
      "outputs": [
        {
          "output_type": "stream",
          "name": "stdout",
          "text": [
            "Enter a number 11\n",
            "Odd numb\n"
          ]
        }
      ]
    },
    {
      "cell_type": "code",
      "source": [
        "a= 29\n",
        "b=9\n",
        "c=5\n",
        "p=a/b\n",
        "print(\"p=\",p)\n",
        "q=a//b\n",
        "print(\"q=\",q)\n",
        "m=a/c\n",
        "t=a//c\n",
        "print(\"m=\",m)\n",
        "print(\"t=\",t)"
      ],
      "metadata": {
        "colab": {
          "base_uri": "https://localhost:8080/"
        },
        "id": "4oO7hIR9DHXu",
        "outputId": "99617531-3ca9-4029-e825-e2832abbfaee"
      },
      "execution_count": null,
      "outputs": [
        {
          "output_type": "stream",
          "name": "stdout",
          "text": [
            "p= 3.2222222222222223\n",
            "q= 3\n",
            "m= 5.8\n",
            "t= 5\n"
          ]
        }
      ]
    },
    {
      "cell_type": "code",
      "source": [
        "#WAP to display the numbers from 1 to 7\n",
        "for i in range(1,8,):\n",
        "  print(i)"
      ],
      "metadata": {
        "colab": {
          "base_uri": "https://localhost:8080/"
        },
        "id": "GX3BZPh4HV4_",
        "outputId": "487e72d1-83d6-4cd8-92ff-9b58afa8570b"
      },
      "execution_count": null,
      "outputs": [
        {
          "output_type": "stream",
          "name": "stdout",
          "text": [
            "1\n",
            "2\n",
            "3\n",
            "4\n",
            "5\n",
            "6\n",
            "7\n"
          ]
        }
      ]
    },
    {
      "cell_type": "code",
      "source": [
        "# WAP to display all the values from 1 to n\n",
        "n=int(input(\"Enter the limit\"))\n",
        "for i in range(1,n+1):\n",
        "  print(i)\n"
      ],
      "metadata": {
        "colab": {
          "base_uri": "https://localhost:8080/"
        },
        "id": "SDN6jTyvJ9UH",
        "outputId": "bba484ca-f769-4fc0-f0d5-55cafedd7ad0"
      },
      "execution_count": null,
      "outputs": [
        {
          "output_type": "stream",
          "name": "stdout",
          "text": [
            "Enter the limit7\n",
            "1\n",
            "2\n",
            "3\n",
            "4\n",
            "5\n",
            "6\n",
            "7\n"
          ]
        }
      ]
    },
    {
      "cell_type": "code",
      "source": [
        "#WAP to  display the series 5,10,15,...100\n",
        "\n",
        "for i in range(5,101,5):\n",
        "  print(i)"
      ],
      "metadata": {
        "colab": {
          "base_uri": "https://localhost:8080/"
        },
        "id": "dhoJ7mfQKml9",
        "outputId": "8cf0110a-1d8d-46b7-aca8-44456cff71c0"
      },
      "execution_count": null,
      "outputs": [
        {
          "output_type": "stream",
          "name": "stdout",
          "text": [
            "5\n",
            "10\n",
            "15\n",
            "20\n",
            "25\n",
            "30\n",
            "35\n",
            "40\n",
            "45\n",
            "50\n",
            "55\n",
            "60\n",
            "65\n",
            "70\n",
            "75\n",
            "80\n",
            "85\n",
            "90\n",
            "95\n",
            "100\n"
          ]
        }
      ]
    },
    {
      "cell_type": "code",
      "source": [],
      "metadata": {
        "id": "iUvpxAlhLuzI"
      },
      "execution_count": null,
      "outputs": []
    },
    {
      "cell_type": "code",
      "source": [
        "# WAP to display the series 1,4,9,16,...n terms\n",
        "n=int(input(\"Enter a number to find it's series square \"))\n",
        "for i in range(1,n+1):\n",
        "  print(i*i)\n"
      ],
      "metadata": {
        "colab": {
          "base_uri": "https://localhost:8080/"
        },
        "id": "QG-b1uN1K8oL",
        "outputId": "0ddd49a0-610f-40e0-fd5e-56e7512cd9ed"
      },
      "execution_count": null,
      "outputs": [
        {
          "output_type": "stream",
          "name": "stdout",
          "text": [
            "Enter a Square number 9\n",
            "1\n",
            "4\n",
            "9\n",
            "16\n",
            "25\n",
            "36\n",
            "49\n",
            "64\n",
            "81\n"
          ]
        }
      ]
    },
    {
      "cell_type": "code",
      "source": [
        "# WAP to display the series 10,20,30,...n\n",
        "n=int(input(\"Enter a number \"))\n",
        "for i in range(1,n+1):\n",
        "  print(i*10)\n"
      ],
      "metadata": {
        "colab": {
          "base_uri": "https://localhost:8080/"
        },
        "id": "sW4veAMHM6f2",
        "outputId": "10992555-8d80-483c-e5b7-99f0da146b22"
      },
      "execution_count": null,
      "outputs": [
        {
          "output_type": "stream",
          "name": "stdout",
          "text": [
            "Enter a number 52\n",
            "10\n",
            "20\n",
            "30\n",
            "40\n",
            "50\n",
            "60\n",
            "70\n",
            "80\n",
            "90\n",
            "100\n",
            "110\n",
            "120\n",
            "130\n",
            "140\n",
            "150\n",
            "160\n",
            "170\n",
            "180\n",
            "190\n",
            "200\n",
            "210\n",
            "220\n",
            "230\n",
            "240\n",
            "250\n",
            "260\n",
            "270\n",
            "280\n",
            "290\n",
            "300\n",
            "310\n",
            "320\n",
            "330\n",
            "340\n",
            "350\n",
            "360\n",
            "370\n",
            "380\n",
            "390\n",
            "400\n",
            "410\n",
            "420\n",
            "430\n",
            "440\n",
            "450\n",
            "460\n",
            "470\n",
            "480\n",
            "490\n",
            "500\n",
            "510\n",
            "520\n"
          ]
        }
      ]
    },
    {
      "cell_type": "code",
      "source": [
        "#WAP print multiple table of a number\n",
        "n=int(input(\"Enter table number : \"))\n",
        "for i in range(1,11):\n",
        "  print(n,\"*\",i,\"=\",n*i)"
      ],
      "metadata": {
        "colab": {
          "base_uri": "https://localhost:8080/"
        },
        "id": "WJeiIDqYNIO4",
        "outputId": "58b38801-d046-4ff5-950b-60dff04d9afa"
      },
      "execution_count": null,
      "outputs": [
        {
          "output_type": "stream",
          "name": "stdout",
          "text": [
            "Enter table number : 12\n",
            "12 * 1 = 12\n",
            "12 * 2 = 24\n",
            "12 * 3 = 36\n",
            "12 * 4 = 48\n",
            "12 * 5 = 60\n",
            "12 * 6 = 72\n",
            "12 * 7 = 84\n",
            "12 * 8 = 96\n",
            "12 * 9 = 108\n",
            "12 * 10 = 120\n"
          ]
        }
      ]
    },
    {
      "cell_type": "code",
      "source": [
        "#WAP to find the sum of all natural numbers upto n\n",
        "n=int(input(\"Enter the nth number:  \"))\n",
        "s=0\n",
        "for i in range(1,n+1):\n",
        "  s=s+i\n",
        "print(\"Sum=\",s)  "
      ],
      "metadata": {
        "id": "fNSDBMFAOMJl",
        "colab": {
          "base_uri": "https://localhost:8080/"
        },
        "outputId": "8fad068d-0cd5-4442-bbc4-1c33a7124fd3"
      },
      "execution_count": null,
      "outputs": [
        {
          "output_type": "stream",
          "name": "stdout",
          "text": [
            "Enter the nth number:  5\n",
            "Sum= 15\n"
          ]
        }
      ]
    },
    {
      "cell_type": "code",
      "source": [
        "#WAP to find the factorial of numbers\n",
        "n=int(input(\"Enter a number: \"))\n",
        "f=1\n",
        "for i in range(1,n+1):\n",
        "  f=f*i\n",
        "print(\"Factorial=\",f)  "
      ],
      "metadata": {
        "colab": {
          "base_uri": "https://localhost:8080/"
        },
        "id": "PJHFCw9cQdFN",
        "outputId": "6c42c273-7903-4ac3-fdda-8c2ad5618b32"
      },
      "execution_count": null,
      "outputs": [
        {
          "output_type": "stream",
          "name": "stdout",
          "text": [
            "Enter a number:  5\n",
            "Factorial= 120\n"
          ]
        }
      ]
    },
    {
      "cell_type": "code",
      "source": [
        "#WAP to input and display the factors of the entered number\n",
        "n=int(input(\"Enter a Number: \"))\n",
        "for i in range(1,int(n/2+1)):\n",
        "  if(n%i==0):\n",
        "    print(i,end=\",\")\n",
        "print(n)\n"
      ],
      "metadata": {
        "colab": {
          "base_uri": "https://localhost:8080/"
        },
        "id": "Mo7qKeaq8uCy",
        "outputId": "55ea1e5f-b70d-4008-b983-bd8eefa3b8ee"
      },
      "execution_count": 3,
      "outputs": [
        {
          "output_type": "stream",
          "name": "stdout",
          "text": [
            "Enter a Number: 10\n",
            "1,2,5,10\n"
          ]
        }
      ]
    },
    {
      "cell_type": "code",
      "source": [
        "#WAP to find the sum of factors of the entered number excluding that number\n",
        "n=int(input(\"Enter a Number: \"))\n",
        "sum=0\n",
        "for i in range(1,int(n/2+1)):\n",
        "  if(n%i==0):\n",
        "    sum=sum+i\n",
        "print(\"Sum of factors is: \",sum)\n"
      ],
      "metadata": {
        "colab": {
          "base_uri": "https://localhost:8080/"
        },
        "id": "_q94y8I1_LlE",
        "outputId": "8213feb1-b5b0-44f5-bd65-4e808d9e26b7"
      },
      "execution_count": 4,
      "outputs": [
        {
          "output_type": "stream",
          "name": "stdout",
          "text": [
            "Enter a Number: 10\n",
            "Sum of factors is:  8\n"
          ]
        }
      ]
    },
    {
      "cell_type": "code",
      "source": [
        "#WAP to input a number check whether it is a perfect number or not\n",
        "#A perfect number is a number whose sum of factors (excluding that number)is equal that number\n",
        "n=int(input(\"Enter a Number: \"))\n",
        "sum=0\n",
        "for i in range(1,int(n/2+1)):\n",
        "  if(n%i==0):\n",
        "    sum=sum+i\n",
        "if sum==n:\n",
        "  print(\"The given number\",n,\"is perfect number\")\n",
        "else:\n",
        "  print(\"Not a perfect number\")  "
      ],
      "metadata": {
        "colab": {
          "base_uri": "https://localhost:8080/"
        },
        "id": "uRCFNht9_uat",
        "outputId": "12c3d247-3607-4335-957a-2b3b9ebd3d26"
      },
      "execution_count": 9,
      "outputs": [
        {
          "output_type": "stream",
          "name": "stdout",
          "text": [
            "Enter a Number: 6\n",
            "The given number 6 is perfect number\n"
          ]
        }
      ]
    },
    {
      "cell_type": "code",
      "source": [
        "#WAP to check if the number give is prime or not\n",
        "n=int(input(\"Enter a number: \"))\n",
        "f=0\n",
        "for i in range(2,int(n/2)+1):\n",
        "  if n%i==0:\n",
        "    f=1\n",
        "    break\n",
        "if f==0:\n",
        "  print(\"Prime Number\")\n",
        "else:\n",
        "  print(\"Composite Number\")      "
      ],
      "metadata": {
        "colab": {
          "base_uri": "https://localhost:8080/"
        },
        "id": "Pj6xrJhoCn_p",
        "outputId": "ba2bd152-89f8-4ae5-f53b-15058790d942"
      },
      "execution_count": 14,
      "outputs": [
        {
          "output_type": "stream",
          "name": "stdout",
          "text": [
            "Enter a number: 11\n",
            "Prime Number\n"
          ]
        }
      ]
    },
    {
      "cell_type": "code",
      "source": [],
      "metadata": {
        "id": "PenX566WFmQF"
      },
      "execution_count": null,
      "outputs": []
    }
  ]
}