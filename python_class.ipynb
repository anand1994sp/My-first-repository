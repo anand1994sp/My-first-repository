{
  "nbformat": 4,
  "nbformat_minor": 0,
  "metadata": {
    "colab": {
      "provenance": [],
      "authorship_tag": "ABX9TyPNnjmezwcJbNMgF/ci9bEZ",
      "include_colab_link": true
    },
    "kernelspec": {
      "name": "python3",
      "display_name": "Python 3"
    },
    "language_info": {
      "name": "python"
    }
  },
  "cells": [
    {
      "cell_type": "markdown",
      "metadata": {
        "id": "view-in-github",
        "colab_type": "text"
      },
      "source": [
        "<a href=\"https://colab.research.google.com/github/anand1994sp/My-first-repository/blob/anand1994sp-patch-Learning-to-code/python_class.ipynb\" target=\"_parent\"><img src=\"https://colab.research.google.com/assets/colab-badge.svg\" alt=\"Open In Colab\"/></a>"
      ]
    },
    {
      "cell_type": "code",
      "execution_count": 1,
      "metadata": {
        "colab": {
          "base_uri": "https://localhost:8080/"
        },
        "id": "jKsYHKz1gfD9",
        "outputId": "e57bc799-f9ec-408a-8562-888b5349e8d7"
      },
      "outputs": [
        {
          "output_type": "stream",
          "name": "stdout",
          "text": [
            "Hello Good Afternoon\n"
          ]
        }
      ],
      "source": [
        "print(\"Hello Good Afternoon\")"
      ]
    },
    {
      "cell_type": "code",
      "source": [
        "#WAP to find the sum of two numbers\n",
        "a=int(input(\"Enter a number \"))\n",
        "b=int(input(\"Enter a number \"))\n",
        "s=a+b\n",
        "print(\"sum=\",s)"
      ],
      "metadata": {
        "id": "PKS694klo5Cy"
      },
      "execution_count": 2,
      "outputs": []
    },
    {
      "cell_type": "code",
      "source": [
        "#Write a program to multiply 2 numbers\n",
        "a=int(input(\"Enter a number \"))\n",
        "b=int(input(\"Enter a number \"))\n",
        "p=a*b\n",
        "print(\"product=\",p)"
      ],
      "metadata": {
        "colab": {
          "base_uri": "https://localhost:8080/"
        },
        "id": "UyutHuN8pTS-",
        "outputId": "f6560b4e-9ef3-4f2d-8c52-8cc9eb108778"
      },
      "execution_count": 3,
      "outputs": [
        {
          "output_type": "stream",
          "name": "stdout",
          "text": [
            "Enter a number 2\n",
            "Enter a number 8\n",
            "product= 16\n"
          ]
        }
      ]
    },
    {
      "cell_type": "code",
      "source": [
        "#Write a Program to sum of 5 numbers?\n",
        "a=int(input(\"Enter a number \"))\n",
        "b=int(input(\"Enter a number \"))\n",
        "c=int(input(\"Enter a number \"))\n",
        "d=int(input(\"Enter a number \"))\n",
        "e=int(input(\"Enter a number \"))\n",
        "sum=a+b+c+d+e\n",
        "print(\"Sum=\",sum)"
      ],
      "metadata": {
        "colab": {
          "base_uri": "https://localhost:8080/"
        },
        "id": "Sq5B6pX6qSdD",
        "outputId": "2c57486f-909e-469a-ce4e-7c3426aa3c08"
      },
      "execution_count": 4,
      "outputs": [
        {
          "output_type": "stream",
          "name": "stdout",
          "text": [
            "Enter a number 1\n",
            "Enter a number 2\n",
            "Enter a number 3\n",
            "Enter a number 4\n",
            "Enter a number 5\n",
            "Sum= 15\n"
          ]
        }
      ]
    }
  ]
}