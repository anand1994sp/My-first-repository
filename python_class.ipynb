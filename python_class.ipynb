{
  "nbformat": 4,
  "nbformat_minor": 0,
  "metadata": {
    "colab": {
      "provenance": [],
      "authorship_tag": "ABX9TyM7AhiuVFG+oTWtdIxYzH1A",
      "include_colab_link": true
    },
    "kernelspec": {
      "name": "python3",
      "display_name": "Python 3"
    },
    "language_info": {
      "name": "python"
    }
  },
  "cells": [
    {
      "cell_type": "markdown",
      "metadata": {
        "id": "view-in-github",
        "colab_type": "text"
      },
      "source": [
        "<a href=\"https://colab.research.google.com/github/anand1994sp/My-first-repository/blob/anand1994sp-patch-Learning-to-code/python_class.ipynb\" target=\"_parent\"><img src=\"https://colab.research.google.com/assets/colab-badge.svg\" alt=\"Open In Colab\"/></a>"
      ]
    },
    {
      "cell_type": "code",
      "execution_count": null,
      "metadata": {
        "colab": {
          "base_uri": "https://localhost:8080/"
        },
        "id": "jKsYHKz1gfD9",
        "outputId": "e57bc799-f9ec-408a-8562-888b5349e8d7"
      },
      "outputs": [
        {
          "output_type": "stream",
          "name": "stdout",
          "text": [
            "Hello Good Afternoon\n"
          ]
        }
      ],
      "source": [
        "print(\"Hello Good Afternoon\")"
      ]
    },
    {
      "cell_type": "code",
      "source": [
        "#WAP to find the sum of two numbers\n",
        "a=int(input(\"Enter a number \"))\n",
        "b=int(input(\"Enter a number \"))\n",
        "s=a+b\n",
        "print(\"sum=\",s)"
      ],
      "metadata": {
        "id": "PKS694klo5Cy"
      },
      "execution_count": null,
      "outputs": []
    },
    {
      "cell_type": "code",
      "source": [
        "#Write a program to multiply 2 numbers\n",
        "a=int(input(\"Enter a number \"))\n",
        "b=int(input(\"Enter a number \"))\n",
        "p=a*b\n",
        "print(\"product=\",p)"
      ],
      "metadata": {
        "colab": {
          "base_uri": "https://localhost:8080/"
        },
        "id": "UyutHuN8pTS-",
        "outputId": "f6560b4e-9ef3-4f2d-8c52-8cc9eb108778"
      },
      "execution_count": null,
      "outputs": [
        {
          "output_type": "stream",
          "name": "stdout",
          "text": [
            "Enter a number 2\n",
            "Enter a number 8\n",
            "product= 16\n"
          ]
        }
      ]
    },
    {
      "cell_type": "code",
      "source": [
        "#Write a Program to sum of 5 numbers?\n",
        "a=int(input(\"Enter a number \"))\n",
        "b=int(input(\"Enter a number \"))\n",
        "c=int(input(\"Enter a number \"))\n",
        "d=int(input(\"Enter a number \"))\n",
        "e=int(input(\"Enter a number \"))\n",
        "sum=a+b+c+d+e\n",
        "print(\"Sum=\",sum)"
      ],
      "metadata": {
        "colab": {
          "base_uri": "https://localhost:8080/"
        },
        "id": "Sq5B6pX6qSdD",
        "outputId": "2c57486f-909e-469a-ce4e-7c3426aa3c08"
      },
      "execution_count": null,
      "outputs": [
        {
          "output_type": "stream",
          "name": "stdout",
          "text": [
            "Enter a number 1\n",
            "Enter a number 2\n",
            "Enter a number 3\n",
            "Enter a number 4\n",
            "Enter a number 5\n",
            "Sum= 15\n"
          ]
        }
      ]
    },
    {
      "cell_type": "code",
      "source": [
        "#Write a program to find area and perimeter of a rectangle\n",
        "l=int(input(\"Enter length \"))\n",
        "b=int(input(\"Enter breadth \"))\n",
        "a=l*b\n",
        "p=2*(l+b)\n",
        "print(\"Area a Rectangle is\",a)\n",
        "print(\"Perimeter of the rectangle is\",p)"
      ],
      "metadata": {
        "colab": {
          "base_uri": "https://localhost:8080/"
        },
        "id": "waLrJcw8s2HB",
        "outputId": "c3201a10-d00b-4eb5-ed14-f5715dbc32ab"
      },
      "execution_count": 2,
      "outputs": [
        {
          "output_type": "stream",
          "name": "stdout",
          "text": [
            "Enter length 5\n",
            "Enter breadth 6\n",
            "Area a Rectangle is 30\n",
            "Perimeter of the rectangle is 22\n"
          ]
        }
      ]
    },
    {
      "cell_type": "code",
      "source": [
        "#To find the area and circumference of a circle\n",
        "pi=3.14\n",
        "r=int(input(\"Enter the radius of the circle \"))\n",
        "a=pi*r*r\n",
        "c=2*pi*r\n",
        "print(\"Area of the circle is\",a)\n",
        "print(\"Circumference of the circle\",c)"
      ],
      "metadata": {
        "colab": {
          "base_uri": "https://localhost:8080/"
        },
        "id": "yy1zf0VQuGGr",
        "outputId": "2d3ac6d4-96f3-49b8-b2ed-1a290f25876e"
      },
      "execution_count": 4,
      "outputs": [
        {
          "output_type": "stream",
          "name": "stdout",
          "text": [
            "Enter the radius of the circle 4\n",
            "Area of the circle is 50.24\n",
            "Circumference of the circle 25.12\n"
          ]
        }
      ]
    },
    {
      "cell_type": "code",
      "source": [
        "#Volume a spher\n",
        "pi=3.14\n",
        "r=int(input(\"Enter the radius of the sphere \"))\n",
        "v=(4/3)*pi*r*r*r\n",
        "print(\"Volume of the sphere is\",v)"
      ],
      "metadata": {
        "colab": {
          "base_uri": "https://localhost:8080/"
        },
        "id": "f4tJzdYOwgoU",
        "outputId": "fcc7a811-cadb-4344-d5fd-5e31e22e5c51"
      },
      "execution_count": 5,
      "outputs": [
        {
          "output_type": "stream",
          "name": "stdout",
          "text": [
            "Enter the radius of the sphere 5\n",
            "Volume of the sphere is 523.3333333333334\n"
          ]
        }
      ]
    }
  ]
}