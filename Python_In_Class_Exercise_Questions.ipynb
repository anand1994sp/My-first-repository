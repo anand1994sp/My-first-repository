{
  "cells": [
    {
      "cell_type": "markdown",
      "metadata": {
        "id": "view-in-github",
        "colab_type": "text"
      },
      "source": [
        "<a href=\"https://colab.research.google.com/github/anand1994sp/My-first-repository/blob/main/Python_In_Class_Exercise_Questions.ipynb\" target=\"_parent\"><img src=\"https://colab.research.google.com/assets/colab-badge.svg\" alt=\"Open In Colab\"/></a>"
      ]
    },
    {
      "cell_type": "markdown",
      "metadata": {
        "id": "8odu2yZftt1E"
      },
      "source": [
        "# Python In-class Exercise"
      ]
    },
    {
      "cell_type": "markdown",
      "metadata": {
        "id": "wNgxnmXctt1G"
      },
      "source": [
        "### 1. Write a program to check whether an year entered by an user is leap year or not"
      ]
    },
    {
      "cell_type": "code",
      "source": [
        "year = int(input('enter the year:'))\n",
        "if (year%400==0):\n",
        "  print(year,\"is a leap year\")\n",
        "else:\n",
        "  print(year,\"is not a leap year \")"
      ],
      "metadata": {
        "colab": {
          "base_uri": "https://localhost:8080/"
        },
        "id": "kVjpzl90uKc4",
        "outputId": "6264cc47-98f4-4d42-86e0-f242defac65d"
      },
      "execution_count": null,
      "outputs": [
        {
          "output_type": "stream",
          "name": "stdout",
          "text": [
            "enter the year:2024\n",
            "2024 is not a leap year \n"
          ]
        }
      ]
    },
    {
      "cell_type": "markdown",
      "metadata": {
        "id": "amG6qcsVtt1H"
      },
      "source": [
        "### 2. Take a string containing punctuation marks as an input from user and write a program to remove all the  punctuation marks from a string"
      ]
    },
    {
      "cell_type": "code",
      "source": [
        "punctuations = '''#*^$%()!*'''\n",
        "user = \"gokuln*^$ath!\"\n",
        "no_punctuations = \"\"\n",
        "for char in user:\n",
        "  if char not in punctuations:\n",
        "    no_punctuations= no_punctuations + char\n",
        "    \n",
        "print(no_punctuations)\n"
      ],
      "metadata": {
        "colab": {
          "base_uri": "https://localhost:8080/"
        },
        "id": "6FfZujkFxeaJ",
        "outputId": "7b33f583-a19b-43da-b0ba-646099c5175c"
      },
      "execution_count": null,
      "outputs": [
        {
          "output_type": "stream",
          "name": "stdout",
          "text": [
            "gokulnath\n"
          ]
        }
      ]
    },
    {
      "cell_type": "markdown",
      "metadata": {
        "id": "NzAWHg5Ptt1H"
      },
      "source": [
        "### 3. Take two separate numbers as input from the user and Write a program to swap 2 numbers without using temporary variable"
      ]
    },
    {
      "cell_type": "code",
      "source": [
        "a=int(input(\"Enter first number: \"))\n",
        "b=int(input(\"Enter Second number: \"))\n",
        "print(\"Before Swap\",a,b)\n",
        "a,b=b,a\n",
        "print(\"After Swap\",a,b)\n",
        " "
      ],
      "metadata": {
        "id": "mJ1qtoxZ2X7o",
        "colab": {
          "base_uri": "https://localhost:8080/"
        },
        "outputId": "6c013f2a-741f-4089-cb44-938922d6464d"
      },
      "execution_count": 9,
      "outputs": [
        {
          "output_type": "stream",
          "name": "stdout",
          "text": [
            "Enter first number: 8\n",
            "Enter Second number: 6\n",
            "Before Swap 8 6\n",
            "After Swap 6 8\n"
          ]
        }
      ]
    },
    {
      "cell_type": "markdown",
      "metadata": {
        "id": "BpPKgUhhtt1I"
      },
      "source": [
        "### 4. Write a program to print product of following variables\n",
        "<br> integer = 10 \n",
        "<br> string = \"15\""
      ]
    },
    {
      "cell_type": "code",
      "source": [
        "integer=10\n",
        "string=\"15\"\n",
        "print(\"product of integer and string is\",integer*int(string))"
      ],
      "metadata": {
        "colab": {
          "base_uri": "https://localhost:8080/"
        },
        "id": "U4mSvV1EUlBZ",
        "outputId": "41b719a6-a817-4125-dcac-841b611dc5f3"
      },
      "execution_count": 11,
      "outputs": [
        {
          "output_type": "stream",
          "name": "stdout",
          "text": [
            "product of integer and string is 150\n"
          ]
        }
      ]
    },
    {
      "cell_type": "markdown",
      "metadata": {
        "id": "ftjKLa1Ytt1I"
      },
      "source": [
        "### 5. Write a program to print following pattern\n",
        "<br>a\n",
        "<br>b c\n",
        "<br>d e f\n",
        "<br>g h i j\n",
        "<br>k l m n o\n",
        "<br>p q r s t u"
      ]
    },
    {
      "cell_type": "code",
      "source": [
        "a=ord('a')\n",
        "print()\n",
        "for i in range(1,7):\n",
        "  for j in range(1,i+1):\n",
        "    print(chr(a),end=' ')\n",
        "    a=a+1\n",
        "  print(\"\\n\")  \n",
        "\n",
        "    \n",
        "\n"
      ],
      "metadata": {
        "colab": {
          "base_uri": "https://localhost:8080/"
        },
        "id": "6j-4tcJWU7Wh",
        "outputId": "7f66081f-754b-4cb8-a0ca-a5a434fb5a94"
      },
      "execution_count": 33,
      "outputs": [
        {
          "output_type": "stream",
          "name": "stdout",
          "text": [
            "a \n",
            "\n",
            "b c \n",
            "\n",
            "d e f \n",
            "\n",
            "g h i j \n",
            "\n",
            "k l m n o \n",
            "\n",
            "p q r s t u \n",
            "\n"
          ]
        }
      ]
    },
    {
      "cell_type": "markdown",
      "metadata": {
        "id": "b_bGM8iStt1I"
      },
      "source": [
        "### 6. Write a program to print tables from 2 to n, where n is provided by user"
      ]
    },
    {
      "cell_type": "markdown",
      "metadata": {
        "id": "UVzxQhX8tt1J"
      },
      "source": [
        "### 7. Write a program to read height (in centimeters) from user and then convert it to feet and inches"
      ]
    },
    {
      "cell_type": "markdown",
      "metadata": {
        "id": "fOe6x4R2tt1J"
      },
      "source": [
        "### 8. Write a program to print following pattern"
      ]
    },
    {
      "cell_type": "markdown",
      "metadata": {
        "id": "43lLKDGNtt1K"
      },
      "source": [
        "                                                *\n",
        "                                                * * \n",
        "                                                * * *\n",
        "                                                * *\n",
        "                                                *"
      ]
    },
    {
      "cell_type": "markdown",
      "metadata": {
        "id": "cs3OrG4att1K"
      },
      "source": [
        "### 9. Below list contains age and name of five students. Convert the list into a dictionary such that the name is taken as key and the age before their name is taken as thier respective value in the dictionary"
      ]
    },
    {
      "cell_type": "markdown",
      "metadata": {
        "id": "Mm5AlsNrtt1K"
      },
      "source": [
        "students = [26,'Jon',34,'Roger',13,'Jessica',24,'Monica',65,'Ashton']\n",
        "Output: {'Jon':26, 'Roger':34, 'Jessica':13, 'Monica':24, 'Ashton':65}"
      ]
    },
    {
      "cell_type": "markdown",
      "metadata": {
        "id": "FiFZCHm-tt1L"
      },
      "source": [
        "### 10. Write a program to check whether two strings, taken from user, are anagram or not"
      ]
    },
    {
      "cell_type": "markdown",
      "metadata": {
        "id": "JPciIPKLtt1L"
      },
      "source": [
        "### 11. Write a program that sorts all the elements of the list according to the first letter, irrespective of their cases (uppercase or lowercase). Note: Do not use any inbuilt sorting function"
      ]
    },
    {
      "cell_type": "markdown",
      "metadata": {
        "id": "F5LZR2Pbtt1L"
      },
      "source": [
        "### 12. Write a program that prints a list of sour fruits from the below tuple:\n",
        "<br>fruits = (('Lemon','sour'), ('DragonFruit', 'Sweet'), ('Grapes','soUr'), ('Kiwi','Sour'), ('Apples','sweet'), ('Orange','sour'), ('Blueberries','sweet'), ('Limes','Sour') ) \n",
        "\n",
        "<br>**Output**: Sour Fruits: ['Lemon', 'Grapes', 'Kiwi', 'Orange', 'Limes']"
      ]
    },
    {
      "cell_type": "markdown",
      "metadata": {
        "id": "xiwTQUQVtt1L"
      },
      "source": [
        "### 13. Given below are the list of positive and negative words. Also a list of tweets is provided. Separate out the positive and negative comments"
      ]
    },
    {
      "cell_type": "markdown",
      "metadata": {
        "id": "nFLIov1Ett1L"
      },
      "source": [
        "<br>positive = ['good','awesome', 'best', 'nice']\n",
        "\n",
        "<br>negative = ['worst','awful', 'bad']\n",
        "\n",
        "<br>tweets = ['This government policies are good', \n",
        "'bad implementation', 'The way he played showed that he is one of the best players in the world', 'Her acting in the play was awesome', 'The wine tastes awful', 'It's nice to hear this little kid's laugh']"
      ]
    },
    {
      "cell_type": "markdown",
      "metadata": {
        "id": "R8RwjxnGtt1M"
      },
      "source": [
        "### 14. Write a program that performs multiplication of the following two matrix"
      ]
    },
    {
      "cell_type": "raw",
      "metadata": {
        "id": "CyHchekjtt1M"
      },
      "source": [
        "X = [[1,2,3],\n",
        "    [4 ,5,6],\n",
        "    [7 ,8,9]]\n",
        "\n",
        "Y = [[1,8,1],\n",
        "    [3,7,3],\n",
        "    [4,5,9]]"
      ]
    },
    {
      "cell_type": "markdown",
      "metadata": {
        "id": "O3_QtWOZtt1M"
      },
      "source": [
        "### 15. Write a program to remove space from keys of the given dictionary"
      ]
    },
    {
      "cell_type": "markdown",
      "metadata": {
        "id": "u9R3-rsRtt1M"
      },
      "source": [
        "Employee = {'emp 01' : 'Raj', 'emp 02' : 'Sheela', 'emp 0 3 ': 'Joseph'}; \n",
        "\n",
        "Output:\n",
        "<br>New dictionary :  {'emp01': 'Raj', 'emp02': 'Sheela', 'emp03': 'Joseph'}"
      ]
    },
    {
      "cell_type": "markdown",
      "metadata": {
        "collapsed": true,
        "id": "Lf6AAxThtt1M"
      },
      "source": [
        "### 16.  Write a program to display the subjects for which the scores are between 300 and 500 (inclusive) in the given dataframe"
      ]
    },
    {
      "cell_type": "markdown",
      "metadata": {
        "id": "J4rDqtSutt1N"
      },
      "source": [
        "**Use the dataframe given below:**\n",
        "    \n",
        "<table>\n",
        " <tr>\n",
        " <th>Subject</th>\n",
        " <th>Score</th>\n",
        " </tr>\n",
        " <tr>\n",
        " <td>Maths</td>\n",
        " <td>345</td>\n",
        " </tr>\n",
        " <tr>\n",
        " <td>Physics</td>\n",
        " <td>432</td>\n",
        " </tr>\n",
        " <tr>\n",
        " <td>Chemistry</td>\n",
        " <td>456</td>\n",
        " </tr>\n",
        " <tr>\n",
        " <td>Biology</td>\n",
        " <td>234</td>\n",
        " </tr>\n",
        " <tr>\n",
        " <td>Geology</td>\n",
        " <td>254</td>\n",
        " </tr>\n",
        "    \n",
        "</table>"
      ]
    },
    {
      "cell_type": "markdown",
      "metadata": {
        "id": "dC6ulgo2tt1N"
      },
      "source": [
        "### 17. Write a program to find numbers between 10000 to 20000 from a given array"
      ]
    },
    {
      "cell_type": "markdown",
      "metadata": {
        "id": "HyW4WPSutt1N"
      },
      "source": [
        "**Use the list given below:**\n",
        "\n",
        "Sales = [1432,143223,2043332,1642357,54327,754338,12459,75435,224454,1433,12447,25532,86674,74338,12678]"
      ]
    },
    {
      "cell_type": "markdown",
      "metadata": {
        "id": "rpPiQB7ctt1N"
      },
      "source": [
        "### 18. Write a program to sort the dataframe by Rank (in ascending order)"
      ]
    },
    {
      "cell_type": "markdown",
      "metadata": {
        "id": "RnywjTRGtt1N"
      },
      "source": [
        "**Use the dataframe given below:**\n",
        "    \n",
        "<table>\n",
        " <tr>\n",
        " <th>Name</th>\n",
        " <th>Rank</th>\n",
        " </tr>\n",
        " <tr>\n",
        " <td>Joy</td>\n",
        " <td>115</td>\n",
        " </tr>\n",
        " <tr>\n",
        " <td>Mia</td>\n",
        " <td>451</td>\n",
        " </tr>\n",
        " <tr>\n",
        " <td>Karan</td>\n",
        " <td>341</td>\n",
        " </tr>\n",
        " <tr>\n",
        " <td>Tom</td>\n",
        " <td>84</td>\n",
        " </tr>\n",
        "    \n",
        "</table>"
      ]
    },
    {
      "cell_type": "markdown",
      "metadata": {
        "id": "2zit78gytt1N"
      },
      "source": [
        "### 19. Use the data given in the question 18, to do the following:\n",
        " Write a program to swap the 1st and 2nd row in a dataframe"
      ]
    },
    {
      "cell_type": "markdown",
      "metadata": {
        "id": "7XpT8Iv4tt1N"
      },
      "source": [
        "### 20. Write a program to replace 0 and 1 in Gender variable with M and F"
      ]
    },
    {
      "cell_type": "markdown",
      "metadata": {
        "id": "i7y1D9Nytt1O"
      },
      "source": [
        "**Use the dataframe given below:**\n",
        "    \n",
        "<table>\n",
        " <tr>\n",
        " <th>Id</th>\n",
        " <th>Name</th>\n",
        " <th>Age</th>\n",
        " <th>Gender</th>\n",
        " </tr>\n",
        " <tr>\n",
        " <td>1</td>\n",
        " <td>Mia</td>\n",
        " <td>47</td>\n",
        " <td>1 </td>\n",
        " </tr>\n",
        " <tr>\n",
        " <td>2</td>\n",
        " <td>Sara</td>\n",
        " <td>38</td>\n",
        " <td>1</td>\n",
        " </tr>\n",
        " <tr>\n",
        " <td>3</td>\n",
        " <td>Joy</td>\n",
        " <td>47</td>\n",
        " <td>0</td>\n",
        " </tr>\n",
        " <tr>\n",
        " <td>4</td>\n",
        " <td>Karan</td>\n",
        " <td>41</td>\n",
        " <td>0</td>\n",
        " </tr>\n",
        "    \n",
        "</table>"
      ]
    },
    {
      "cell_type": "markdown",
      "metadata": {
        "id": "qMnJmOyytt1O"
      },
      "source": [
        "### 21. Convert a 1D array to a 2D array containing 2 rows"
      ]
    },
    {
      "cell_type": "markdown",
      "metadata": {
        "id": "8C0LgH7dtt1O"
      },
      "source": [
        "**Use the array given below:**\n",
        "    \n",
        "dim_1 = ([331, 245, 246, 475, 348, 229])"
      ]
    },
    {
      "cell_type": "markdown",
      "metadata": {
        "id": "NOgxBwpCtt1O"
      },
      "source": [
        "### 22. Find the average cost of each variety of product available in the three different shops"
      ]
    },
    {
      "cell_type": "markdown",
      "metadata": {
        "id": "_qZ8JpyOtt1O"
      },
      "source": [
        "**Use the data given below:**\n",
        "    \n",
        "[[10, 20, 30], [17, 14, 21], [25, 15, 12]],\n",
        "  columns=['product_a', 'product_b', 'product_c'],\n",
        "  index=['Shop1', 'Shop2', 'Shop3']"
      ]
    },
    {
      "cell_type": "markdown",
      "metadata": {
        "id": "FvsAxfsUtt1O"
      },
      "source": [
        "### 23. Write a program to create a histogram using given data"
      ]
    },
    {
      "cell_type": "markdown",
      "metadata": {
        "id": "1sTOsvu-tt1O"
      },
      "source": [
        "**Use the list given below:**\n",
        "\n",
        "weight = [34,56,43,22,2,58,89,78,67,56,65,43,23]"
      ]
    },
    {
      "cell_type": "markdown",
      "metadata": {
        "id": "alaWwsGctt1O"
      },
      "source": [
        "### 24. Write a program to delete items from series_a that are present in series_b and print the updated series_a"
      ]
    },
    {
      "cell_type": "markdown",
      "metadata": {
        "id": "UvMwT6x2tt1O"
      },
      "source": [
        "**Use the series given below:**\n",
        "    \n",
        "series_a = ([11, 12, 13, 14, 15])<br>\n",
        "series_b= ([14, 15, 16, 17, 18])"
      ]
    },
    {
      "cell_type": "markdown",
      "metadata": {
        "id": "-CaTFM8_tt1O"
      },
      "source": [
        "### 25. Create a series of 40 random numbers and transform it into a dataframe containing seven columns and five rows"
      ]
    },
    {
      "cell_type": "markdown",
      "metadata": {
        "id": "T2Re6Qxdtt1P"
      },
      "source": [
        "### 26. Get common elements from the two arrays"
      ]
    },
    {
      "cell_type": "markdown",
      "metadata": {
        "id": "5pOJcdBYtt1P"
      },
      "source": [
        "**Use the array given below:**<br>\n",
        "      \n",
        "      test_a = np.array([11,12,13,22,23,44,43,24,45,36])\n",
        "      test_b = np.array([17,22,13,22,47,34,39,44,29,28])"
      ]
    },
    {
      "cell_type": "markdown",
      "metadata": {
        "id": "1uMytLmstt1P"
      },
      "source": [
        "### 27. Import dataset 'flights' from library seaborn. Check for datatypes of all variable."
      ]
    },
    {
      "cell_type": "markdown",
      "metadata": {
        "id": "by0C4fmJtt1P"
      },
      "source": [
        "### 28. Compute total sales for each product and country"
      ]
    },
    {
      "cell_type": "markdown",
      "metadata": {
        "id": "jj4724D8tt1P"
      },
      "source": [
        "**Use the dataframe given below:**\n",
        "   \n",
        "<table>\n",
        "<tr>\n",
        "<th>Product</th>\n",
        "<th>Country</th>\n",
        "<th>Sales</th>\n",
        "</tr>\n",
        "<tr>\n",
        "<td>A</td>\n",
        "<td>USA</td>\n",
        "<td>44000</td>\n",
        "</tr>\n",
        "<tr>\n",
        "<td>J</td>\n",
        "<td>Japan</td>\n",
        "<td>43000</td>\n",
        "</tr>\n",
        "<tr>\n",
        "<td>A</td>\n",
        "<td>Europe</td>\n",
        "<td>54000</td>\n",
        "</tr>\n",
        "<tr>\n",
        "<td>L</td>\n",
        "<td>Japan</td>\n",
        "<td>95600</td>\n",
        "</tr>\n",
        "<tr>\n",
        "<td>R</td>\n",
        "<td>Europe</td>\n",
        "<td>79000</td>\n",
        "</tr>\n",
        "<tr>\n",
        "<td>A</td>\n",
        "<td>USA</td>\n",
        "<td>67000</td>\n",
        "</tr>\n",
        "<tr>\n",
        "<td>R</td>\n",
        "<td>USA</td>\n",
        "<td>68000</td>\n",
        "</tr>\n",
        "<tr>\n",
        "<td>J</td>\n",
        "<td>Japan</td>\n",
        "<td>38000</td>\n",
        "</tr>\n",
        "<tr>\n",
        "<td>L</td>\n",
        "<td>USA</td>\n",
        "<td>59000</td>\n",
        "</tr>\n",
        "<tr>\n",
        "<td>A</td>\n",
        "<td>Europe</td>\n",
        "<td>60000</td>\n",
        "</tr>\n",
        "   \n",
        "</table>"
      ]
    },
    {
      "cell_type": "markdown",
      "metadata": {
        "id": "63GcM5MBtt1P"
      },
      "source": [
        "### 29. Get the descriptive statistics of the sales for each Country"
      ]
    },
    {
      "cell_type": "markdown",
      "metadata": {
        "id": "KRSs_UBDtt1P"
      },
      "source": [
        "### 30. Reverse each of the rows of the 2D array"
      ]
    },
    {
      "cell_type": "markdown",
      "metadata": {
        "id": "lAZQ3R8vtt1P"
      },
      "source": [
        "**Use the array given below:**<br>\n",
        "\n",
        "    num_array = np.arange(20).reshape(4,5)"
      ]
    }
  ],
  "metadata": {
    "kernelspec": {
      "display_name": "Python 3",
      "language": "python",
      "name": "python3"
    },
    "language_info": {
      "codemirror_mode": {
        "name": "ipython",
        "version": 3
      },
      "file_extension": ".py",
      "mimetype": "text/x-python",
      "name": "python",
      "nbconvert_exporter": "python",
      "pygments_lexer": "ipython3",
      "version": "3.6.3"
    },
    "colab": {
      "provenance": [],
      "collapsed_sections": [],
      "include_colab_link": true
    }
  },
  "nbformat": 4,
  "nbformat_minor": 0
}